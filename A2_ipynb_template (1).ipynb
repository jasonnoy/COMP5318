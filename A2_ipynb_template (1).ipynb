{
  "nbformat": 4,
  "nbformat_minor": 0,
  "metadata": {
    "colab": {
      "name": "A2_ipynb_template.ipynb",
      "provenance": [],
      "collapsed_sections": [],
      "toc_visible": true
    },
    "kernelspec": {
      "name": "python3",
      "display_name": "Python 3"
    }
  },
  "cells": [
    {
      "cell_type": "markdown",
      "metadata": {
        "id": "H0eP3e_PjUBJ"
      },
      "source": [
        "# COMP5318 Assignment 2\n",
        "*Make sure you change the file name with your unikey*"
      ]
    },
    {
      "cell_type": "code",
      "metadata": {
        "colab": {
          "base_uri": "https://localhost:8080/"
        },
        "id": "dP6R172dUB9_",
        "outputId": "be26bdfa-1201-4a56-b07c-63982724a339"
      },
      "source": [
        "from google.colab import drive\n",
        "drive.mount('/content/drive')"
      ],
      "execution_count": 9,
      "outputs": [
        {
          "output_type": "stream",
          "text": [
            "Drive already mounted at /content/drive; to attempt to forcibly remount, call drive.mount(\"/content/drive\", force_remount=True).\n"
          ],
          "name": "stdout"
        }
      ]
    },
    {
      "cell_type": "code",
      "metadata": {
        "id": "P989d9U2b1mR"
      },
      "source": [
        "import os\n",
        "import pickle\n",
        "import pandas as pd\n",
        "%matplotlib inline\n",
        "import matplotlib.pyplot as plt\n",
        "import seaborn as sns;\n",
        "import numpy as np\n",
        "from PIL import Image\n",
        "from numpy import asarray"
      ],
      "execution_count": 10,
      "outputs": []
    },
    {
      "cell_type": "markdown",
      "metadata": {
        "id": "uHOuqG7PjhMp"
      },
      "source": [
        "# 1. Data set up\n"
      ]
    },
    {
      "cell_type": "markdown",
      "metadata": {
        "id": "u8BNaD9dkIVa"
      },
      "source": [
        "## 1.1 Load Data\n",
        "\n",
        "Please upload both datasets (any file format is ok) to your google drive, and load the datasets through google drive file id in your code. If you want to use Jupyter, please submit all the dataset in an additional zip file.\n",
        "\n",
        "\n"
      ]
    },
    {
      "cell_type": "code",
      "metadata": {
        "id": "IAfmDpcTHTic"
      },
      "source": [
        "# parse .review file\n",
        "def read_txt_data(file_name):\n",
        "    with open(file_name) as file_object:\n",
        "        lines = file_object.readlines()  # read lines\n",
        " \n",
        "    data_set = []\n",
        "    for line in lines:\n",
        "        # print line\n",
        "        data_line = line.strip(\"\\n\").split()\n",
        "        line_dict = {}\n",
        "        for data in data_line:\n",
        "            kv_pair = data.split(\":\")\n",
        "            line_dict[kv_pair[0]] = kv_pair[1]\n",
        "        \n",
        "        data_set.append(line_dict)\n",
        " \n",
        "    # # print \"data_string = \", data_string\n",
        "    # data = data_string\n",
        "    # for i in range(len(data_string)):\n",
        "    #     for j in range(len(data_string[i])):\n",
        "    #         data[i][j] = float(data_string[i][j])\n",
        " \n",
        "    # # print \"data = \", data\n",
        "    # # print data[1][3]\n",
        "    return data_set"
      ],
      "execution_count": 34,
      "outputs": []
    },
    {
      "cell_type": "markdown",
      "metadata": {
        "id": "DvDycHp5gBUY"
      },
      "source": [
        "### dataset 1"
      ]
    },
    {
      "cell_type": "code",
      "metadata": {
        "id": "gBtTuOw5J6Gt"
      },
      "source": [
        "book_review = read_txt_data(\"/content/drive/MyDrive/Datasets/amazon_book.review\")"
      ],
      "execution_count": 77,
      "outputs": []
    },
    {
      "cell_type": "code",
      "metadata": {
        "colab": {
          "base_uri": "https://localhost:8080/"
        },
        "id": "4FknX3CFObqK",
        "outputId": "d67acf76-2b74-4449-bcd5-dce1fd06db36"
      },
      "source": [
        "data_size = len(book_review)\n",
        "print (book_review[0])"
      ],
      "execution_count": 36,
      "outputs": [
        {
          "output_type": "stream",
          "text": [
            "{'helpful': '1', 'voices_of': '1', 'the_levels': '1', 'it': '1', 'only_knew': '1', '\"if_i': '1', 'guidance_in': '1', 'departing_one': '1', 'familiarize': '1', 'meaning': '1', 'self_is': '1', 'can_be': '1', 'knowledge': '3', \"koan's_since\": '1', 'be': '1', 'experiences_actions': '1', 'spiritually_the': '1', 'you_to': '1', 'collection': '1', 'with_not': '1', 'as': '1', 'disciplines_spiritually': '1', 'levels': '1', 'that_i': '1', 'work_but': '1', 'to_anything': '1', 'each_statement': '1', 'much_much': '1', 'dhu-l-nun': '1', 'a_quote': '1', 'badruddin': '1', 'all_through': '1', 'sets': '1', 'but': '1', 'chapters_offer': '1', 'actions_remembrances': '1', 'one_from': '1', 'revisited_for': '1', 'sufisim': '1', 'some': '1', 'fallow': '1', 'upon': '1', 'which': '1', 'bistami_and': '1', 'more_a': '1', 'not_only': '1', 'bayazid': '1', 'path_of': '1', 'awakening': '1', 'the_many': '1', 'intellective_sufis': '1', 'experiences': '1', 'and_all': '1', 'great': '3', 'and_much': '1', 'yourself': '1', 'through_the': '1', \"guidance's._the\": '1', 'in_a': '1', 'upon_awakening': '1', 'meaning_for': '1', 'introducing_hadiths': '1', 'fantasic': '1', \"guidance's.\": '1', 'had_taken': '1', 'point_it': '1', 'contemplation_in': '1', 'value': '1', 'quote_from': '1', 'sincerity': '1', 'remembrances_and': '1', 'of_guidance': '1', 'compared': '1', 'find_no': '1', 'eternal_intellective': '1', 'to_the': '1', 'touch': '1', 'be_compared': '1', 'actions': '1', 'compared_some': '1', 'is_true': '1', 'all_and': '1', 'point': '1', 'of_departing': '1', 'many_voices': '1', 'many': '1', 'in_which': '1', 'self': '2', 'i_had': '1', 'anything_else.\"sufi': '1', 'is_full': '1', 'bistami_\"if': '1', 'through': '1', 'fantasic_collection': '1', 'levels_of': '1', 'works': '1', 'disciplines': '1', 'find': '1', 'one': '2', 'to': '5', 'attar_dhu-l-nun': '1', 'set': '1', 'statement_falls': '1', 'such': '1', 'the_path': '1', \"it's_enormously\": '1', 'works_of': '1', 'of_orders': '1', 'in_explaining': '1', 'no_value': '1', 'spiritually': '1', 'also': '1', 'transformations': '1', 'explaining_the': '1', 'thought': '1', 'that_will': '1', 'offer': '1', 'great_set': '1', 'from': '2', 'as_attar': '1', 'single_step': '1', 'falls_in': '1', 'would_find': '1', 'anything': '1', 'centering_thought': '1', 'self_then': '1', 'since_they': '1', 'to_fallow': '1', 'the_consciousness': '1', 'the_knowledge': '1', 'and_finally': '1', 'one_single': '1', 'step': '1', 'work': '1', 'some_what': '1', 'a_great': '1', 'will_allow': '1', 'sheikh': '1', \"transformations_it's\": '1', 'statement': '1', 'also_the': '1', 'falls': '1', 'dhu-l-nun_sheikh': '1', 'a_gathering': '1', 'a_source': '1', 'essential': '1', 'or': '1', 'orders': '1', 'hadiths_experiences': '1', 'for': '2', 'of_knowledge': '1', 'great_such': '1', 'of': '9', \"koan's\": '1', 'taken': '1', 'they': '1', 'fallow_these': '1', 'sheikh_badruddin': '1', 'bayazid_bistami': '1', 'or_centering': '1', 'then': '1', 'no': '1', 'all_in': '1', 'value_to': '1', 'what': '1', 'remembrances': '1', 'sufis': '1', 'more': '1', 'of_meaning': '1', 'these': '1', 'contextually_the': '1', 'chapters': '1', 'the_great': '1', 'allow_you': '1', 'and': '3', 'you': '1', 'much': '2', 'contextually': '1', 'orders_all': '1', 'centering': '1', 'explaining': '1', 'with': '1', 'gathering_of': '1', 'gathering': '1', 'badruddin_bistami': '1', 'which_each': '1', 'finally_transformations': '1', 'but_also': '1', 'of_contemplation': '1', \"it's\": '1', 'great_work': '1', 'sincerity_i': '1', 'they_touch': '1', 'only_great': '1', 'source': '1', 'would': '1', 'offer_a': '1', 'had': '1', 'all': '4', 'thought_contextually': '1', 'the_chapters': '1', 'of_the': '3', 'can': '1', 'familiarize_yourself': '1', 'the_point': '1', 'the_self': '2', 'that': '2', 'to_familiarize': '1', 'else.\"sufi': '1', 'is_a': '1', 'knowledge_can': '1', 'single': '1', 'knew': '1', 'since': '1', 'touch_upon': '1', 'helpful_to': '1', 'true_to': '1', 'the_works': '1', 'knowledge_is': '1', 'yourself_with': '1', 'knowledge_in': '1', 'much_more': '1', 'is': '4', 'contemplation': '1', 'in': '6', 'each': '1', '\"if': '1', 'in_sincerity': '1', 'such_as': '1', 'voices': '1', 'finally': '1', 'i_only': '1', 'knew_that': '1', 'hadiths': '1', 'quote': '1', \"for_guidance's.\": '1', 'step_in': '1', 'path': '1', 'introducing': '1', 'attar': '1', 'all_disciplines': '1', 'i_would': '1', \"to_koan's\": '1', 'i': '3', 'consciousness_or': '1', 'these_sets': '1', 'guidance': '1', 'a': '4', 'it_is': '1', 'collection_of': '1', 'essential_is': '1', 'consciousness': '1', 'not': '1', 'taken_one': '1', 'true': '1', 'what_to': '1', 'sets_of': '1', 'then_introducing': '1', 'else.\"sufi_knowledge': '1', 'in_sufisim': '1', 'the_eternal': '1', 'from_bayazid': '1', 'source_that': '1', 'awakening_the': '1', 'only': '2', 'departing': '1', 'is_revisited': '1', 'the': '12', 'will': '1', 'revisited': '1', 'enormously': '1', 'bistami': '2', 'allow': '1', 'eternal': '1', 'full': '1', 'set_of': '1', 'from_the': '1', 'intellective': '1', 'in_all': '1', 'enormously_helpful': '1', 'full_of': '1', 'for_all': '1', '#label#': '5.0'}\n"
          ],
          "name": "stdout"
        }
      ]
    },
    {
      "cell_type": "code",
      "metadata": {
        "id": "oI1HTgSAOmvm"
      },
      "source": [
        "class_feq={}\n",
        "for line in book_review:\n",
        "  for key in line.keys():\n",
        "      print (line[key])\n",
        "    if key in class_feq:\n",
        "      class_feq[key] += 1\n",
        "    else: \n",
        "      class_feq[key] = 1"
      ],
      "execution_count": null,
      "outputs": []
    },
    {
      "cell_type": "code",
      "metadata": {
        "id": "v_wN3dDuU9NO"
      },
      "source": [
        "for key in class_feq.keys():\n",
        "  class_feq[key] = class_feq[key]/data_size"
      ],
      "execution_count": 63,
      "outputs": []
    },
    {
      "cell_type": "code",
      "metadata": {
        "colab": {
          "base_uri": "https://localhost:8080/"
        },
        "id": "I3cdCdqLXaEI",
        "outputId": "ebf8c66c-d868-41b3-ec12-96fdd99aa2ee"
      },
      "source": [
        "print (len(class_feq))"
      ],
      "execution_count": 64,
      "outputs": [
        {
          "output_type": "stream",
          "text": [
            "401727\n"
          ],
          "name": "stdout"
        }
      ]
    },
    {
      "cell_type": "code",
      "metadata": {
        "colab": {
          "base_uri": "https://localhost:8080/"
        },
        "id": "3ZSOz6bNVoHv",
        "outputId": "a511e4db-a767-4b05-ef53-0672e9352433"
      },
      "source": [
        "classes = []\n",
        "for key in class_feq.keys():\n",
        "  if class_feq[key]>0.05 and key!=\"#label#\":\n",
        "    classes.append(key)\n",
        "class_size = len(classes)\n",
        "print (class_size)"
      ],
      "execution_count": 72,
      "outputs": [
        {
          "output_type": "stream",
          "text": [
            "367\n"
          ],
          "name": "stdout"
        }
      ]
    },
    {
      "cell_type": "code",
      "metadata": {
        "colab": {
          "base_uri": "https://localhost:8080/"
        },
        "id": "GX-vKNFQpqJG",
        "outputId": "7a52fc90-f9c6-40c7-bb50-2d07cd3a34a2"
      },
      "source": [
        "new_train = []\n",
        "for line in book_review:\n",
        "  for cl in classes:\n",
        "    if cl in line.keys():\n",
        "      new_train.append(line)\n",
        "      break\n",
        "train_size = len(new_train)\n",
        "print (train_size)"
      ],
      "execution_count": 115,
      "outputs": [
        {
          "output_type": "stream",
          "text": [
            "5500\n",
            "{'i': '3', 'keeper': '1', 'somewhere': '1', 'to_someone': '1', 'job_now': '1', 'wasted': '1', 'unrelated': '1', 'religion_versus': '1', 'was_and': '1', 'are': '1', 'of': '5', 'or': '2', 'now_at': '1', 'found': '1', 'is_simply': '1', 'disappointed': '1', 'wanted_to': '1', 'real': '1', 'so_became': '1', 'was': '2', 'real_waste': '1', 'this': '1', 'be': '2', 'expected': '1', 'a_jesuit': '1', 'science': '1', 'book_is': '1', \"are_'treated'\": '1', \"'treated'_to\": '1', 'jesuit': '1', 'or_presumed': '1', 'at': '2', 'as': '1', 'book_with': '1', 'insights_into': '1', 'of_meterorites': '1', 'an': '1', 'much_of': '1', 'into': '1', \"the_book's\": '1', \"book's\": '1', 'of_the': '2', 'of_what': '1', 'the_vatican': '1', 'this_book': '1', 'whose': '1', 'or_somewhere': '1', 'wanted': '1', 'and': '4', 'bought_it': '1', 'important': '1', 'only_job': '1', 'with_at': '1', 'science_instead': '1', 'simply': '1', 'the_waste': '1', 'and_the': '2', 'to_the': '1', 'religion': '1', 'as_i': '1', 'it_a': '1', 'part_of': '1', 'personal': '1', 'meterorites_much': '1', 'wasted_efforts': '1', 'main': '1', 'i_was': '1', 'expected_a': '1', 'title': '1', 'life': '1', 'do_so': '1', 'jesuit_whose': '1', 'became': '1', 'into_religion': '1', 'what_was': '1', 'meterorites': '1', 'time': '1', 'he_wanted': '1', 'book': '3', \"book's_title\": '1', 'and_only': '1', 'experience': '1', 'some_insights': '1', 'least_some': '1', 'whose_main': '1', 'we': '1', 'simply_his': '1', 'insights': '1', 'the_latter': '1', 'part': '1', 'job': '1', 'could': '1', 'never_found': '1', 'it': '1', 'found_what': '1', 'and_could': '1', 'only': '1', 'versus_science': '1', 'in': '2', 'what': '2', 'instead': '1', 'have': '1', 'who': '1', 'to_do': '1', 'very': '1', 'important_life': '1', 'personal_experience': '1', 'an_important': '1', 'is': '1', 'a_book': '1', 'very_disappointed': '1', 'in_this': '1', 'could_have': '1', 'instead_we': '1', 'what_he': '1', 'keeper_of': '1', 'he': '1', 'reason': '1', 'vatican_seems': '1', 'be_an': '1', 'to': '5', 'continued': '1', 'a_real': '1', 'reason_i': '1', 'main_and': '1', 'never': '1', 'time_and': '1', 'efforts': '1', 'waste_of': '2', \"'treated'\": '1', 'with': '1', 'the_keeper': '1', 'waste': '2', 'to_be': '2', 'at_least': '1', 'book_as': '1', 'so': '1', 'someone_who': '1', 'have_continued': '1', 'disappointed_in': '1', 'presumed_focus': '1', 'a': '3', 'now': '1', 'his': '1', 'the_reason': '1', 'someone': '1', 'continued_to': '1', 'focus_and': '1', 'we_are': '1', 'antartica': '1', 'became_a': '1', 'the': '7', 'focus': '1', 'experience_in': '1', 'his_personal': '1', 'the_book': '1', 'antartica_or': '1', 'presumed': '1', 'was_very': '1', 'much': '1', 'in_antartica': '1', 'some': '1', 'do': '1', 'vatican': '1', 'totally': '1', 'least': '1', 'i_expected': '1', 'at_the': '1', 'versus': '1', 'latter_part': '1', 'be_the': '1', 'unrelated_to': '1', 'somewhere_totally': '1', 'i_bought': '1', 'seems': '1', 'who_never': '1', 'totally_unrelated': '1', 'latter': '1', 'bought': '1', 'seems_to': '1', 'title_or': '1', 'of_time': '1', '#label#': '1.0'}\n"
          ],
          "name": "stdout"
        }
      ]
    },
    {
      "cell_type": "code",
      "metadata": {
        "id": "DO-WUApuYWRR"
      },
      "source": [
        "train_set = np.zeros((train_size, class_size), dtype= np.int)"
      ],
      "execution_count": 113,
      "outputs": []
    },
    {
      "cell_type": "code",
      "metadata": {
        "id": "PjVkg2z0iZh3"
      },
      "source": [
        "i = 0\n",
        "for line in new_train:\n",
        "  j = 0\n",
        "  for cl in classes:\n",
        "    if (cl in line.keys()):\n",
        "      train_set[i][j] = int(line[cl])\n",
        "      j+=1\n",
        "  i+=1\n",
        "for i in range (10):\n",
        "  print (train_set[i])"
      ],
      "execution_count": null,
      "outputs": []
    },
    {
      "cell_type": "code",
      "metadata": {
        "id": "p9YdzFOvt1Ff"
      },
      "source": [
        "from sklearn import preprocessing\n",
        "stand_train = preprocessing.StandardScaler()\n",
        "stand_train = stand_train.fit_transform(train_set)"
      ],
      "execution_count": 118,
      "outputs": []
    },
    {
      "cell_type": "code",
      "metadata": {
        "id": "Xyc8n-E8sD3M"
      },
      "source": [
        "print (stand_train[0:10])"
      ],
      "execution_count": null,
      "outputs": []
    },
    {
      "cell_type": "code",
      "metadata": {
        "id": "p-1oKW7Jom42"
      },
      "source": [
        "robust_train = preprocessing.RobustScaler()\n",
        "# robust标准化处理\n",
        "robust_train = robust_train.fit_transform(train_set)"
      ],
      "execution_count": 120,
      "outputs": []
    },
    {
      "cell_type": "code",
      "metadata": {
        "id": "RCYWfuXjpEO3"
      },
      "source": [
        "print(robust_train[5])"
      ],
      "execution_count": null,
      "outputs": []
    },
    {
      "cell_type": "code",
      "metadata": {
        "id": "t8iqDSTYsPVi"
      },
      "source": [
        ""
      ],
      "execution_count": null,
      "outputs": []
    },
    {
      "cell_type": "markdown",
      "metadata": {
        "id": "ItHFfjgHtlPK"
      },
      "source": [
        "### Dataset 2"
      ]
    },
    {
      "cell_type": "code",
      "metadata": {
        "id": "ZOoITp-XEHky"
      },
      "source": [
        ""
      ],
      "execution_count": null,
      "outputs": []
    },
    {
      "cell_type": "markdown",
      "metadata": {
        "id": "F-3XiApgk3sA"
      },
      "source": [
        "\n",
        "\n",
        "---\n",
        "\n",
        "\n",
        "# 2. K-means Clustering"
      ]
    },
    {
      "cell_type": "markdown",
      "metadata": {
        "id": "hxAng4yft0nA"
      },
      "source": [
        "## 2.1 Dataset 1"
      ]
    },
    {
      "cell_type": "markdown",
      "metadata": {
        "id": "WgV8ZaHalV5D"
      },
      "source": [
        "### Train K-means clustering"
      ]
    },
    {
      "cell_type": "code",
      "metadata": {
        "id": "5rI1uVZUuPOi",
        "colab": {
          "base_uri": "https://localhost:8080/"
        },
        "outputId": "6da8fcb9-ccf2-4ac5-b3c4-17de2999cfe4"
      },
      "source": [
        "from sklearn.cluster import KMeans\n",
        "# select the parameter k for number of clusters\n",
        "k=5\n",
        "kmeans = KMeans(n_clusters=5)\n",
        "kmeans.fit(train_set)\n",
        "y_kmeans = kmeans.predict(train_set)\n"
      ],
      "execution_count": 123,
      "outputs": [
        {
          "output_type": "stream",
          "text": [
            "[1 4 4 ... 1 1 4]\n"
          ],
          "name": "stdout"
        }
      ]
    },
    {
      "cell_type": "code",
      "metadata": {
        "colab": {
          "base_uri": "https://localhost:8080/"
        },
        "id": "deJfHInjsbvI",
        "outputId": "aa6882e9-b0f8-4a13-9e58-3a0d4ca08eab"
      },
      "source": [
        "print (y_kmeans[0:100])"
      ],
      "execution_count": 125,
      "outputs": [
        {
          "output_type": "stream",
          "text": [
            "[1 4 4 4 1 1 1 0 4 1 4 4 4 4 1 4 4 1 1 4 4 4 4 4 4 4 1 4 4 4 4 4 4 1 4 3 4\n",
            " 4 1 4 1 1 4 4 1 1 4 4 4 1 1 4 4 4 4 4 1 4 4 4 4 3 1 4 4 4 4 4 4 1 4 1 4 4\n",
            " 4 4 4 4 4 1 4 4 4 4 4 4 4 4 3 4 4 1 4 4 4 4 4 1 4 4]\n"
          ],
          "name": "stdout"
        }
      ]
    },
    {
      "cell_type": "markdown",
      "metadata": {
        "id": "VLaxMNFYlxUR"
      },
      "source": [
        "### First evaluation"
      ]
    },
    {
      "cell_type": "code",
      "metadata": {
        "id": "hiOAurVPluWC"
      },
      "source": [
        ""
      ],
      "execution_count": null,
      "outputs": []
    },
    {
      "cell_type": "markdown",
      "metadata": {
        "id": "XrItLpXPlk15"
      },
      "source": [
        "### Second evaluation"
      ]
    },
    {
      "cell_type": "code",
      "metadata": {
        "id": "yGE6IWzxmHA1"
      },
      "source": [
        ""
      ],
      "execution_count": null,
      "outputs": []
    },
    {
      "cell_type": "markdown",
      "metadata": {
        "id": "o-dhDS0cuYGI"
      },
      "source": [
        "## 2.2 Dataset 2"
      ]
    },
    {
      "cell_type": "markdown",
      "metadata": {
        "id": "Shyegx-9ufUI"
      },
      "source": [
        "### Train K-means clustering"
      ]
    },
    {
      "cell_type": "code",
      "metadata": {
        "id": "vBjbFw8Y4XML"
      },
      "source": [
        ""
      ],
      "execution_count": null,
      "outputs": []
    },
    {
      "cell_type": "markdown",
      "metadata": {
        "id": "y-iD8b9bulEZ"
      },
      "source": [
        "### First evaluation"
      ]
    },
    {
      "cell_type": "code",
      "metadata": {
        "id": "YFm649x0hcyH"
      },
      "source": [
        ""
      ],
      "execution_count": null,
      "outputs": []
    },
    {
      "cell_type": "markdown",
      "metadata": {
        "id": "InkaP1GTupgP"
      },
      "source": [
        "### Second evaluation "
      ]
    },
    {
      "cell_type": "code",
      "metadata": {
        "id": "XVMYx4dXF2w8"
      },
      "source": [
        ""
      ],
      "execution_count": null,
      "outputs": []
    },
    {
      "cell_type": "markdown",
      "metadata": {
        "id": "BVB6M5-tmVZ6"
      },
      "source": [
        "\n",
        "\n",
        "---\n",
        "\n",
        "\n",
        "# 3. Hierachical Clustering"
      ]
    },
    {
      "cell_type": "markdown",
      "metadata": {
        "id": "4e1rXjiou6Xg"
      },
      "source": [
        "## 3.1 Dataset 1"
      ]
    },
    {
      "cell_type": "markdown",
      "metadata": {
        "id": "lyI1Q-dJmj2D"
      },
      "source": [
        "### Train Hierarchical clustering "
      ]
    },
    {
      "cell_type": "code",
      "metadata": {
        "id": "yzSTBU2AmZub"
      },
      "source": [
        ""
      ],
      "execution_count": null,
      "outputs": []
    },
    {
      "cell_type": "markdown",
      "metadata": {
        "id": "u06Odf2RvATE"
      },
      "source": [
        "### First evaluation "
      ]
    },
    {
      "cell_type": "code",
      "metadata": {
        "id": "1SXvtt22vD_j"
      },
      "source": [
        ""
      ],
      "execution_count": null,
      "outputs": []
    },
    {
      "cell_type": "markdown",
      "metadata": {
        "id": "NP2DhEZQvE5U"
      },
      "source": [
        "### Second evaluation "
      ]
    },
    {
      "cell_type": "code",
      "metadata": {
        "id": "o-VNWQFsvIyL"
      },
      "source": [
        ""
      ],
      "execution_count": null,
      "outputs": []
    },
    {
      "cell_type": "markdown",
      "metadata": {
        "id": "VltnIWtBmqID"
      },
      "source": [
        "## 3.2 Dataset 2"
      ]
    },
    {
      "cell_type": "markdown",
      "metadata": {
        "id": "fcVNl0dOvUsq"
      },
      "source": [
        "### Train Hierarchical clustering "
      ]
    },
    {
      "cell_type": "code",
      "metadata": {
        "id": "tCcBxQaGvYgO"
      },
      "source": [
        ""
      ],
      "execution_count": null,
      "outputs": []
    },
    {
      "cell_type": "markdown",
      "metadata": {
        "id": "8b6JvPUfm4Q-"
      },
      "source": [
        "### First evaluation"
      ]
    },
    {
      "cell_type": "code",
      "metadata": {
        "id": "IPvIi1rC-Afg"
      },
      "source": [
        ""
      ],
      "execution_count": null,
      "outputs": []
    },
    {
      "cell_type": "markdown",
      "metadata": {
        "id": "jxhZGBnSm98d"
      },
      "source": [
        "### Second evalaution "
      ]
    },
    {
      "cell_type": "code",
      "metadata": {
        "id": "37S5tqcz-0Js"
      },
      "source": [
        ""
      ],
      "execution_count": null,
      "outputs": []
    },
    {
      "cell_type": "markdown",
      "metadata": {
        "id": "do-r947ZnGTQ"
      },
      "source": [
        "\n",
        "\n",
        "---\n",
        "\n",
        "\n",
        "# 4. DBSCAN Clustering"
      ]
    },
    {
      "cell_type": "markdown",
      "metadata": {
        "id": "QxvlRqgovlC7"
      },
      "source": [
        "## 4.1 Dataset 1"
      ]
    },
    {
      "cell_type": "markdown",
      "metadata": {
        "id": "2rJ2wmllvrmR"
      },
      "source": [
        "### Train DBSCAN clustering "
      ]
    },
    {
      "cell_type": "code",
      "metadata": {
        "id": "y3zDjJVX3U-a"
      },
      "source": [
        ""
      ],
      "execution_count": null,
      "outputs": []
    },
    {
      "cell_type": "markdown",
      "metadata": {
        "id": "KxeyDFICvw9b"
      },
      "source": [
        "### First evaluation"
      ]
    },
    {
      "cell_type": "code",
      "metadata": {
        "id": "Qtfuz5523XWr"
      },
      "source": [
        ""
      ],
      "execution_count": null,
      "outputs": []
    },
    {
      "cell_type": "markdown",
      "metadata": {
        "id": "Bjhyvv9Qv0rP"
      },
      "source": [
        "### Second evaluation "
      ]
    },
    {
      "cell_type": "code",
      "metadata": {
        "id": "ON1_RFmv3bj3"
      },
      "source": [
        ""
      ],
      "execution_count": null,
      "outputs": []
    },
    {
      "cell_type": "markdown",
      "metadata": {
        "id": "t-POjSqnv7gB"
      },
      "source": [
        "## 4.2 Dataset 2"
      ]
    },
    {
      "cell_type": "markdown",
      "metadata": {
        "id": "wKK7dFVhv-UX"
      },
      "source": [
        "### Train DBSCAN clustering "
      ]
    },
    {
      "cell_type": "code",
      "metadata": {
        "id": "9R8e0huUuu7L"
      },
      "source": [
        ""
      ],
      "execution_count": null,
      "outputs": []
    },
    {
      "cell_type": "markdown",
      "metadata": {
        "id": "OrKT0eKewCgm"
      },
      "source": [
        "### First evaluation "
      ]
    },
    {
      "cell_type": "code",
      "metadata": {
        "id": "fxy2Rsl6wBCM"
      },
      "source": [
        ""
      ],
      "execution_count": null,
      "outputs": []
    },
    {
      "cell_type": "markdown",
      "metadata": {
        "id": "1joILa4LwFbs"
      },
      "source": [
        "### Second evaluation "
      ]
    },
    {
      "cell_type": "code",
      "metadata": {
        "id": "n_QJ74S7wH7b"
      },
      "source": [
        ""
      ],
      "execution_count": null,
      "outputs": []
    }
  ]
}