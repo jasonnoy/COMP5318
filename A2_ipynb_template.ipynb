{
  "nbformat": 4,
  "nbformat_minor": 0,
  "metadata": {
    "colab": {
      "name": "A2_ipynb_template.ipynb",
      "provenance": [],
      "collapsed_sections": [],
      "toc_visible": true,
      "include_colab_link": true
    },
    "kernelspec": {
      "display_name": "Python 3",
      "language": "python",
      "name": "python3"
    },
    "language_info": {
      "codemirror_mode": {
        "name": "ipython",
        "version": 3
      },
      "file_extension": ".py",
      "mimetype": "text/x-python",
      "name": "python",
      "nbconvert_exporter": "python",
      "pygments_lexer": "ipython3",
      "version": "3.7.1"
    }
  },
  "cells": [
    {
      "cell_type": "markdown",
      "metadata": {
        "id": "view-in-github",
        "colab_type": "text"
      },
      "source": [
        "<a href=\"https://colab.research.google.com/github/jasonnoy/COMP5318/blob/main/A2_ipynb_template.ipynb\" target=\"_parent\"><img src=\"https://colab.research.google.com/assets/colab-badge.svg\" alt=\"Open In Colab\"/></a>"
      ]
    },
    {
      "cell_type": "markdown",
      "metadata": {
        "id": "H0eP3e_PjUBJ"
      },
      "source": [
        "# COMP5318 Assignment 2\n",
        "*Make sure you change the file name with your unikey*"
      ]
    },
    {
      "cell_type": "code",
      "metadata": {
        "id": "dP6R172dUB9_"
      },
      "source": [
        "pip install --upgrade pip"
      ],
      "execution_count": null,
      "outputs": []
    },
    {
      "cell_type": "code",
      "metadata": {
        "id": "P989d9U2b1mR"
      },
      "source": [
        "import os\n",
        "import pickle\n",
        "import pandas as pd\n",
        "%matplotlib inline\n",
        "import matplotlib.pyplot as plt\n",
        "import matplotlib as mpl\n",
        "import seaborn as sns;\n",
        "import numpy as np\n",
        "from PIL import Image\n",
        "from numpy import asarray\n",
        "from sklearn import preprocessing\n",
        "from sklearn.cluster import KMeans\n",
        "from sklearn.metrics import silhouette_score\n",
        "from sklearn import decomposition\n",
        "from sklearn.metrics import silhouette_score\n",
        "from sklearn.preprocessing import MinMaxScaler"
      ],
      "execution_count": null,
      "outputs": []
    },
    {
      "cell_type": "markdown",
      "metadata": {
        "id": "uHOuqG7PjhMp"
      },
      "source": [
        "# 1. Data set up\n"
      ]
    },
    {
      "cell_type": "markdown",
      "metadata": {
        "id": "u8BNaD9dkIVa"
      },
      "source": [
        "## 1.1 Load Data\n",
        "\n",
        "Please upload both datasets (any file format is ok) to your google drive, and load the datasets through google drive file id in your code. If you want to use Jupyter, please submit all the dataset in an additional zip file.\n",
        "\n",
        "\n"
      ]
    },
    {
      "cell_type": "code",
      "metadata": {
        "id": "IAfmDpcTHTic"
      },
      "source": [
        "# parse .review file\n",
        "def read_txt_data(file_name):\n",
        "    with open(file_name, encoding='gb18030', errors='ignore') as file_object:\n",
        "        lines = file_object.readlines()  # read lines\n",
        "    data_set = []\n",
        "    for line in lines:\n",
        "        data_line = line.strip(\"\\n\").split()\n",
        "        line_dict = {}\n",
        "        for data in data_line:\n",
        "            kv_pair = data.split(\":\")\n",
        "            line_dict[kv_pair[0]] = kv_pair[1]\n",
        "        data_set.append(line_dict)\n",
        "    return data_set"
      ],
      "execution_count": null,
      "outputs": []
    },
    {
      "cell_type": "markdown",
      "metadata": {
        "id": "DvDycHp5gBUY"
      },
      "source": [
        "### dataset 1"
      ]
    },
    {
      "cell_type": "code",
      "metadata": {
        "id": "gBtTuOw5J6Gt"
      },
      "source": [
        "book_review = read_txt_data(\"/content/drive/MyDrive/Datasets/amazon_book.review\")"
      ],
      "execution_count": null,
      "outputs": []
    },
    {
      "cell_type": "code",
      "metadata": {
        "colab": {
          "base_uri": "https://localhost:8080/"
        },
        "id": "4FknX3CFObqK",
        "outputId": "a58f909b-21f1-4357-af53-e9d2bffa0a12"
      },
      "source": [
        "data_size = len(book_review)\n",
        "print(data_size)"
      ],
      "execution_count": null,
      "outputs": [
        {
          "output_type": "stream",
          "text": [
            "5501\n"
          ],
          "name": "stdout"
        }
      ]
    },
    {
      "cell_type": "code",
      "metadata": {
        "id": "oI1HTgSAOmvm"
      },
      "source": [
        "class_feq={}\n",
        "for line in book_review:\n",
        "  for key in line.keys():\n",
        "    if key in class_feq:\n",
        "      class_feq[key] += 1\n",
        "    else: \n",
        "      class_feq[key] = 1"
      ],
      "execution_count": null,
      "outputs": []
    },
    {
      "cell_type": "code",
      "metadata": {
        "id": "v_wN3dDuU9NO"
      },
      "source": [
        "for key in class_feq.keys():\n",
        "  class_feq[key] = class_feq[key]/data_size"
      ],
      "execution_count": null,
      "outputs": []
    },
    {
      "cell_type": "code",
      "metadata": {
        "id": "I3cdCdqLXaEI"
      },
      "source": [
        "print (len(class_feq))"
      ],
      "execution_count": null,
      "outputs": []
    },
    {
      "cell_type": "code",
      "metadata": {
        "colab": {
          "base_uri": "https://localhost:8080/"
        },
        "id": "3ZSOz6bNVoHv",
        "outputId": "925b90f0-7012-49b7-8d93-c6d1fcda8414"
      },
      "source": [
        "classes = []\n",
        "for key in class_feq.keys():\n",
        "  if class_feq[key]>0.7:\n",
        "    classes.append(key)\n",
        "class_size = len(classes)\n",
        "print (class_size)"
      ],
      "execution_count": null,
      "outputs": [
        {
          "output_type": "stream",
          "text": [
            "10\n"
          ],
          "name": "stdout"
        }
      ]
    },
    {
      "cell_type": "code",
      "metadata": {
        "colab": {
          "base_uri": "https://localhost:8080/"
        },
        "id": "GX-vKNFQpqJG",
        "outputId": "e01d5f4b-720a-43b5-c2b2-bff87e9e58d8"
      },
      "source": [
        "valid_set = []\n",
        "for line in book_review:\n",
        "  valid_set.append(float(line['#label#']))\n",
        "print (len(valid_set))"
      ],
      "execution_count": null,
      "outputs": [
        {
          "output_type": "stream",
          "text": [
            "5501\n"
          ],
          "name": "stdout"
        }
      ]
    },
    {
      "cell_type": "code",
      "metadata": {
        "id": "DO-WUApuYWRR"
      },
      "source": [
        "train_set = np.zeros((data_size, class_size), dtype= np.int32)"
      ],
      "execution_count": null,
      "outputs": []
    },
    {
      "cell_type": "code",
      "metadata": {
        "colab": {
          "base_uri": "https://localhost:8080/"
        },
        "id": "PjVkg2z0iZh3",
        "scrolled": true,
        "outputId": "2e310bfb-0f16-477b-8370-d1262e535873"
      },
      "source": [
        "i = 0\n",
        "for line in book_review:\n",
        "  j = 0\n",
        "  for cl in classes:\n",
        "    if (cl in line.keys()):\n",
        "      if (float(line[cl])==0):\n",
        "        print(\"found 0\")\n",
        "        break\n",
        "      train_set[i][j] = float(line[cl])\n",
        "      j+=1\n",
        "  i+=1\n",
        "for i in range(5490,5500):\n",
        "  print (train_set[i])"
      ],
      "execution_count": null,
      "outputs": [
        {
          "output_type": "stream",
          "text": [
            "[3 4 3 6 1 6 7 1 3 2]\n",
            "[4 3 4 3 1 1 5 1 3 5]\n",
            "[2 3 3 2 4 4 2 2 0 0]\n",
            "[4 3 5 2 1 7 2 1 1 0]\n",
            "[ 9  5  9  4  4  8 20  4  2  2]\n",
            "[1 6 6 2 1 4 9 5 3 4]\n",
            "[ 2  9  6  3  3 11  1  2  3  0]\n",
            "[5 7 4 6 6 9 4 3 4 0]\n",
            "[3 5 4 4 5 8 2 2 4 0]\n",
            "[ 9 17 14  6 13 10 23  5  3  3]\n"
          ],
          "name": "stdout"
        }
      ]
    },
    {
      "cell_type": "code",
      "metadata": {
        "id": "epSdYLdhNONW"
      },
      "source": [
        "from sklearn.impute import SimpleImputer\n",
        "imp = SimpleImputer(missing_values=0, strategy='mean')\n",
        "train_set = imp.fit_transform(train_set)"
      ],
      "execution_count": null,
      "outputs": []
    },
    {
      "cell_type": "code",
      "metadata": {
        "id": "RhwFVLJnnBFp"
      },
      "source": [
        "print (train_set[0])"
      ],
      "execution_count": null,
      "outputs": []
    },
    {
      "cell_type": "code",
      "metadata": {
        "id": "p9YdzFOvt1Ff"
      },
      "source": [
        "\n",
        "stand_train = preprocessing.StandardScaler()\n",
        "stand_train = stand_train.fit_transform(train_set)"
      ],
      "execution_count": null,
      "outputs": []
    },
    {
      "cell_type": "code",
      "metadata": {
        "id": "p-1oKW7Jom42"
      },
      "source": [
        "robust_train = preprocessing.RobustScaler()\n",
        "robust_train = robust_train.fit_transform(train_set)"
      ],
      "execution_count": null,
      "outputs": []
    },
    {
      "cell_type": "code",
      "metadata": {
        "id": "RCYWfuXjpEO3",
        "scrolled": true
      },
      "source": [
        "print(robust_train[5])"
      ],
      "execution_count": null,
      "outputs": []
    },
    {
      "cell_type": "code",
      "metadata": {
        "id": "t8iqDSTYsPVi"
      },
      "source": [
        "# PCA\n",
        "pca = decomposition.PCA(n_components=2)\n",
        "X = pca.fit_transform(stand_train)"
      ],
      "execution_count": null,
      "outputs": []
    },
    {
      "cell_type": "code",
      "metadata": {
        "colab": {
          "base_uri": "https://localhost:8080/"
        },
        "id": "e1EFW8kUlKuQ",
        "outputId": "fad02880-58f4-49fc-f5f4-35b55cb6f282"
      },
      "source": [
        "print(len(X))"
      ],
      "execution_count": null,
      "outputs": [
        {
          "output_type": "stream",
          "text": [
            "5501\n"
          ],
          "name": "stdout"
        }
      ]
    },
    {
      "cell_type": "markdown",
      "metadata": {
        "id": "ItHFfjgHtlPK"
      },
      "source": [
        "### Dataset 2"
      ]
    },
    {
      "cell_type": "code",
      "metadata": {
        "id": "ZOoITp-XEHky"
      },
      "source": [
        ""
      ],
      "execution_count": null,
      "outputs": []
    },
    {
      "cell_type": "markdown",
      "metadata": {
        "id": "F-3XiApgk3sA"
      },
      "source": [
        "\n",
        "\n",
        "---\n",
        "\n",
        "\n",
        "# 2. K-means Clustering"
      ]
    },
    {
      "cell_type": "markdown",
      "metadata": {
        "id": "hxAng4yft0nA"
      },
      "source": [
        "## 2.1 Dataset 1"
      ]
    },
    {
      "cell_type": "markdown",
      "metadata": {
        "id": "WgV8ZaHalV5D"
      },
      "source": [
        "### Train K-means clustering"
      ]
    },
    {
      "cell_type": "code",
      "metadata": {
        "id": "ktH81FBAkg96"
      },
      "source": [
        "kmeans_per_k = [KMeans(n_clusters=k, random_state=42).fit(X) for k in range(1, 10)]\n",
        "inertias = [model.inertia_ for model in kmeans_per_k]"
      ],
      "execution_count": null,
      "outputs": []
    },
    {
      "cell_type": "code",
      "metadata": {
        "colab": {
          "base_uri": "https://localhost:8080/"
        },
        "id": "wf-FB01iCeyQ",
        "outputId": "de1a103a-371a-40db-b48b-837251fbf959"
      },
      "source": [
        "print (inertias)"
      ],
      "execution_count": null,
      "outputs": [
        {
          "output_type": "stream",
          "text": [
            "[37176.656203846505, 18378.978298244525, 12939.0996404845, 10474.967208039572, 8739.041499646992, 7285.432622341172, 6205.338740084956, 5404.538927651054, 4810.475511416078]\n"
          ],
          "name": "stdout"
        }
      ]
    },
    {
      "cell_type": "markdown",
      "metadata": {
        "id": "gt7dxhAMCeyT"
      },
      "source": [
        "### Evaluation functions"
      ]
    },
    {
      "cell_type": "code",
      "metadata": {
        "id": "kSMffgYECeyT"
      },
      "source": [
        ""
      ],
      "execution_count": null,
      "outputs": []
    },
    {
      "cell_type": "code",
      "metadata": {
        "id": "WyHr63I-CeyT"
      },
      "source": [
        "###Some plot functions\n",
        "def plot_data(X):\n",
        "    plt.plot(X[:, 0], X[:, 1], 'k.', markersize=2)\n",
        "\n",
        "def plot_clusters(X, y=None):\n",
        "    plt.scatter(X[:, 0], X[:, 1], c=y, s=1)\n",
        "    plt.xlabel(\"$x_1$\", fontsize=14)\n",
        "    plt.ylabel(\"$x_2$\", fontsize=14, rotation=0)\n",
        "    \n",
        "def plot_centroids(centroids, weights=None, circle_color='w', cross_color='k'):\n",
        "    if weights is not None:\n",
        "        centroids = centroids[weights > weights.max() / 10]\n",
        "    plt.scatter(centroids[:, 0], centroids[:, 1],\n",
        "                marker='o', s=30, linewidths=8,\n",
        "                color=circle_color, zorder=10, alpha=0.9)\n",
        "    plt.scatter(centroids[:, 0], centroids[:, 1],\n",
        "                marker='x', s=50, linewidths=50,\n",
        "                color=cross_color, zorder=11, alpha=1)\n",
        "\n",
        "def plot_decision_boundaries(clusterer, X, resolution=1000, show_centroids=True,\n",
        "                             show_xlabels=True, show_ylabels=True):\n",
        "    mins = X.min(axis=0) - 0.1\n",
        "    maxs = X.max(axis=0) + 0.1\n",
        "    xx, yy = np.meshgrid(np.linspace(mins[0], maxs[0], resolution),\n",
        "                         np.linspace(mins[1], maxs[1], resolution))\n",
        "    Z = clusterer.predict(np.c_[xx.ravel(), yy.ravel()])\n",
        "    Z = Z.reshape(xx.shape)\n",
        "\n",
        "    plt.contourf(Z, extent=(mins[0], maxs[0], mins[1], maxs[1]),\n",
        "                cmap=\"Pastel2\")\n",
        "    plt.contour(Z, extent=(mins[0], maxs[0], mins[1], maxs[1]),\n",
        "                linewidths=1, colors='k')\n",
        "    plot_data(X)\n",
        "    if show_centroids:\n",
        "        plot_centroids(clusterer.cluster_centers_)\n",
        "\n",
        "    if show_xlabels:\n",
        "        plt.xlabel(\"$x_1$\", fontsize=14)\n",
        "    else:\n",
        "        plt.tick_params(labelbottom=False)\n",
        "    if show_ylabels:\n",
        "        plt.ylabel(\"$x_2$\", fontsize=14, rotation=0)\n",
        "    else:\n",
        "        plt.tick_params(labelleft=False)\n",
        "\n",
        "def plot_clusterer_comparison(clusterer1, clusterer2, X, title1=None, title2=None):\n",
        "    clusterer1.fit(X)\n",
        "    clusterer2.fit(X)\n",
        "\n",
        "    plt.figure(figsize=(10, 3.2))\n",
        "\n",
        "    plt.subplot(121)\n",
        "    plot_decision_boundaries(clusterer1, X)\n",
        "    if title1:\n",
        "        plt.title(title1, fontsize=14)\n",
        "\n",
        "    plt.subplot(122)\n",
        "    plot_decision_boundaries(clusterer2, X, show_ylabels=False)\n",
        "    if title2:\n",
        "        plt.title(title2, fontsize=14)"
      ],
      "execution_count": null,
      "outputs": []
    },
    {
      "cell_type": "code",
      "metadata": {
        "id": "ghyEJFahCeyU"
      },
      "source": [
        ""
      ],
      "execution_count": null,
      "outputs": []
    },
    {
      "cell_type": "code",
      "metadata": {
        "id": "llZBEMFuCeyU"
      },
      "source": [
        "###Some more functions for fitting models and plotting results\n",
        "from matplotlib.patches import Ellipse\n",
        "from scipy.spatial.distance import cdist\n",
        "\n",
        "def draw_ellipse(position, covariance, ax=None, **kwargs):\n",
        "    \"\"\"Draw an ellipse with a given position and covariance\"\"\"\n",
        "    ax = ax or plt.gca()\n",
        "    \n",
        "    # Convert covariance to principal axes\n",
        "    if covariance.shape == (2, 2):\n",
        "        U, s, Vt = np.linalg.svd(covariance)\n",
        "        angle = np.degrees(np.arctan2(U[1, 0], U[0, 0]))\n",
        "        width, height = 2 * np.sqrt(s)\n",
        "    else:\n",
        "        angle = 0\n",
        "        width, height = 2 * np.sqrt(covariance)\n",
        "    \n",
        "    # Draw the Ellipse\n",
        "    for nsig in range(1, 4):\n",
        "        ax.add_patch(Ellipse(position, nsig * width, nsig * height,\n",
        "                             angle, **kwargs))\n",
        "        \n",
        "def plot_gmm(gmm, X, label=True, ax=None):\n",
        "    ax = ax or plt.gca()\n",
        "    labels = gmm.fit(X).predict(X)\n",
        "    if label:\n",
        "        ax.scatter(X[:, 0], X[:, 1], c=labels, s=20, cmap='viridis', zorder=2)\n",
        "    else:\n",
        "        ax.scatter(X[:, 0], X[:, 1], s=20, zorder=2)\n",
        "    ax.axis('equal')\n",
        "    \n",
        "    w_factor = 0.2 / gmm.weights_.max()\n",
        "    for pos, covar, w in zip(gmm.means_, gmm.covariances_, gmm.weights_):\n",
        "        draw_ellipse(pos, covar, alpha=w * w_factor)\n",
        "\n",
        "def plot_kmeans(kmeans, X, n_clusters=4, rseed=0, ax=None):\n",
        "    labels = kmeans.fit_predict(X)\n",
        "\n",
        "    # plot the input data\n",
        "    ax = ax or plt.gca()\n",
        "    ax.axis('equal')\n",
        "    ax.scatter(X[:, 0], X[:, 1], c=labels, s=20, cmap='viridis', zorder=2)\n",
        "\n",
        "    # plot the representation of the KMeans model\n",
        "\n"
      ],
      "execution_count": null,
      "outputs": []
    },
    {
      "cell_type": "markdown",
      "metadata": {
        "id": "VLaxMNFYlxUR"
      },
      "source": [
        "### First evaluation"
      ]
    },
    {
      "cell_type": "code",
      "metadata": {
        "id": "hiOAurVPluWC"
      },
      "source": [
        ""
      ],
      "execution_count": null,
      "outputs": []
    },
    {
      "cell_type": "code",
      "metadata": {
        "id": "WZhac2VNCeyR",
        "colab": {
          "base_uri": "https://localhost:8080/",
          "height": 265
        },
        "outputId": "46d5fd8b-1361-4819-fde6-9c890496ac51"
      },
      "source": [
        "plot_kmeans(kmeans_per_k[1], X, n_clusters=2, rseed=0, ax=None)"
      ],
      "execution_count": null,
      "outputs": [
        {
          "output_type": "display_data",
          "data": {
            "image/png": "[encoded data removed]",
            "text/plain": [
              "<Figure size 432x288 with 1 Axes>"
            ]
          },
          "metadata": {
            "tags": [],
            "needs_background": "light"
          }
        }
      ]
    },
    {
      "cell_type": "code",
      "metadata": {
        "id": "mvslTi4jCeyT",
        "colab": {
          "base_uri": "https://localhost:8080/",
          "height": 284
        },
        "outputId": "66d1c08e-bebe-4ac0-c385-c4160bad9889"
      },
      "source": [
        "\n",
        "k = 2\n",
        "plot_decision_boundaries(kmeans_per_k[k-1], X)\n",
        "plt.show()"
      ],
      "execution_count": null,
      "outputs": [
        {
          "output_type": "display_data",
          "data": {
            "image/png": "[encoded data removed]",
            "text/plain": [
              "<Figure size 432x288 with 1 Axes>"
            ]
          },
          "metadata": {
            "tags": [],
            "needs_background": "light"
          }
        }
      ]
    },
    {
      "cell_type": "code",
      "metadata": {
        "colab": {
          "base_uri": "https://localhost:8080/",
          "height": 265
        },
        "id": "7cTTrWxPYD3K",
        "outputId": "d19d5a1e-e1c9-4541-af8e-a5aa2e9b9156"
      },
      "source": [
        "y_means = kmeans_per_k[1].predict(X)\n",
        "plt.scatter(X[:, 0], X[:, 1], c=y_means, s=50, cmap='viridis')\n",
        "centers = kmeans_per_k[1].cluster_centers_\n",
        "plt.scatter(centers[:, 0], centers[:, 1], c='silver', s=200, alpha=0.5);"
      ],
      "execution_count": null,
      "outputs": [
        {
          "output_type": "display_data",
          "data": {
            "image/png": "[encoded data removed]",
            "text/plain": [
              "<Figure size 432x288 with 1 Axes>"
            ]
          },
          "metadata": {
            "tags": [],
            "needs_background": "light"
          }
        }
      ]
    },
    {
      "cell_type": "markdown",
      "metadata": {
        "id": "XrItLpXPlk15"
      },
      "source": [
        "### Second evaluation"
      ]
    },
    {
      "cell_type": "code",
      "metadata": {
        "colab": {
          "base_uri": "https://localhost:8080/",
          "height": 261
        },
        "id": "EAgGDl8klBER",
        "scrolled": true,
        "outputId": "c2c90976-e2ef-4c6b-deb8-f1e828a00c36"
      },
      "source": [
        "plt.figure(figsize=(8, 3.5))\n",
        "plt.plot(range(1, 10), inertias, \"bo-\")\n",
        "plt.xlabel(\"$k$\", fontsize=14)\n",
        "plt.ylabel(\"Inertia\", fontsize=14)\n",
        "plt.annotate('Second Best',\n",
        "             xy=(3, inertias[2]),\n",
        "             xytext=(0.55, 0.55),\n",
        "             textcoords='figure fraction',\n",
        "             fontsize=16,\n",
        "             arrowprops=dict(facecolor='black', shrink=0.1)\n",
        "            )\n",
        "plt.annotate('Elbow',\n",
        "             xy=(2, inertias[1]),\n",
        "             xytext=(0.55, 0.75),\n",
        "             textcoords='figure fraction',\n",
        "             fontsize=16,\n",
        "             arrowprops=dict(facecolor='black', shrink=0.1)\n",
        "            )\n",
        "plt.axis([1, 8.5, 4500, 40000])\n",
        "plt.show()"
      ],
      "execution_count": null,
      "outputs": [
        {
          "output_type": "display_data",
          "data": {
            "image/png": "[encoded data removed]",
            "text/plain": [
              "<Figure size 576x252 with 1 Axes>"
            ]
          },
          "metadata": {
            "tags": [],
            "needs_background": "light"
          }
        }
      ]
    },
    {
      "cell_type": "code",
      "metadata": {
        "id": "k7w0sHOiCeyW"
      },
      "source": [
        "silhouette_scores = [silhouette_score(X, model.labels_)\n",
        "                     for model in kmeans_per_k[1:]]"
      ],
      "execution_count": null,
      "outputs": []
    },
    {
      "cell_type": "code",
      "metadata": {
        "scrolled": true,
        "colab": {
          "base_uri": "https://localhost:8080/",
          "height": 230
        },
        "id": "VPWLfhvWCeyW",
        "outputId": "c78efd62-997e-4ad3-a346-9615a683ca2d"
      },
      "source": [
        "plt.figure(figsize=(8, 3))\n",
        "plt.plot(range(2, 10), silhouette_scores, \"bo-\")\n",
        "plt.xlabel(\"$k$\", fontsize=14)\n",
        "plt.ylabel(\"Silhouette score\", fontsize=14)\n",
        "plt.show()"
      ],
      "execution_count": null,
      "outputs": [
        {
          "output_type": "display_data",
          "data": {
            "image/png": "[encoded data removed]",
            "text/plain": [
              "<Figure size 576x216 with 1 Axes>"
            ]
          },
          "metadata": {
            "tags": [],
            "needs_background": "light"
          }
        }
      ]
    },
    {
      "cell_type": "markdown",
      "metadata": {
        "id": "o-dhDS0cuYGI"
      },
      "source": [
        "## 2.2 Dataset 2"
      ]
    },
    {
      "cell_type": "markdown",
      "metadata": {
        "id": "Shyegx-9ufUI"
      },
      "source": [
        "### Train K-means clustering"
      ]
    },
    {
      "cell_type": "code",
      "metadata": {
        "id": "vBjbFw8Y4XML"
      },
      "source": [
        ""
      ],
      "execution_count": null,
      "outputs": []
    },
    {
      "cell_type": "markdown",
      "metadata": {
        "id": "y-iD8b9bulEZ"
      },
      "source": [
        "### First evaluation"
      ]
    },
    {
      "cell_type": "code",
      "metadata": {
        "id": "YFm649x0hcyH"
      },
      "source": [
        ""
      ],
      "execution_count": null,
      "outputs": []
    },
    {
      "cell_type": "markdown",
      "metadata": {
        "id": "InkaP1GTupgP"
      },
      "source": [
        "### Second evaluation "
      ]
    },
    {
      "cell_type": "code",
      "metadata": {
        "id": "XVMYx4dXF2w8"
      },
      "source": [
        ""
      ],
      "execution_count": null,
      "outputs": []
    },
    {
      "cell_type": "markdown",
      "metadata": {
        "id": "BVB6M5-tmVZ6"
      },
      "source": [
        "\n",
        "\n",
        "---\n",
        "\n",
        "\n",
        "# 3. Hierachical Clustering"
      ]
    },
    {
      "cell_type": "markdown",
      "metadata": {
        "id": "4e1rXjiou6Xg"
      },
      "source": [
        "## 3.1 Dataset 1"
      ]
    },
    {
      "cell_type": "markdown",
      "metadata": {
        "id": "lyI1Q-dJmj2D"
      },
      "source": [
        "### Train Hierarchical clustering "
      ]
    },
    {
      "cell_type": "code",
      "metadata": {
        "id": "yzSTBU2AmZub"
      },
      "source": [
        "from sklearn.cluster import AgglomerativeClustering"
      ],
      "execution_count": null,
      "outputs": []
    },
    {
      "cell_type": "code",
      "metadata": {
        "id": "VjhymuJVCeyY"
      },
      "source": [
        "clustering = AgglomerativeClustering().fit(X)"
      ],
      "execution_count": null,
      "outputs": []
    },
    {
      "cell_type": "markdown",
      "metadata": {
        "id": "u06Odf2RvATE"
      },
      "source": [
        "### First evaluation "
      ]
    },
    {
      "cell_type": "code",
      "metadata": {
        "id": "L9-H35aaD7d_"
      },
      "source": [
        "from scipy.cluster.hierarchy import dendrogram, linkage,fcluster\n",
        "Z = linkage(X, 'ward')"
      ],
      "execution_count": null,
      "outputs": []
    },
    {
      "cell_type": "code",
      "metadata": {
        "id": "1SXvtt22vD_j",
        "colab": {
          "base_uri": "https://localhost:8080/",
          "height": 541
        },
        "outputId": "7c58958e-a348-45d8-d55e-8b393aa6b95f"
      },
      "source": [
        "from scipy.cluster.hierarchy import dendrogram, linkage,fcluster\n",
        "Z = linkage(X, 'ward')\n",
        "f = fcluster(Z,4,'distance')\n",
        "fig = plt.figure(figsize=(20, 10))\n",
        "dn = dendrogram(Z)\n",
        "plt.show()\n"
      ],
      "execution_count": null,
      "outputs": [
        {
          "output_type": "display_data",
          "data": {
            "image/png": "[encoded data removed]",
            "text/plain": [
              "<Figure size 1440x720 with 1 Axes>"
            ]
          },
          "metadata": {
            "tags": [],
            "needs_background": "light"
          }
        },
        {
          "output_type": "display_data",
          "data": {
            "text/plain": [
              "<Figure size 432x288 with 0 Axes>"
            ]
          },
          "metadata": {
            "tags": []
          }
        }
      ]
    },
    {
      "cell_type": "code",
      "metadata": {
        "colab": {
          "base_uri": "https://localhost:8080/"
        },
        "id": "Hws_10Bblq4N",
        "outputId": "d6a3a6d0-dbe5-4b05-a516-fbe6981cd7ee"
      },
      "source": [
        "print(len(dn['color_list']))"
      ],
      "execution_count": null,
      "outputs": [
        {
          "output_type": "stream",
          "text": [
            "5500\n"
          ],
          "name": "stdout"
        }
      ]
    },
    {
      "cell_type": "code",
      "metadata": {
        "id": "dZy-0Ic3itDW"
      },
      "source": [
        " y_hi=[0]\n",
        " for hi in dn['color_list']:\n",
        "    if hi == 'g':\n",
        "      y_hi.append(0)\n",
        "    else:\n",
        "      y_hi.append(1)\n"
      ],
      "execution_count": null,
      "outputs": []
    },
    {
      "cell_type": "code",
      "metadata": {
        "colab": {
          "base_uri": "https://localhost:8080/",
          "height": 284
        },
        "id": "9x6LNT0Dklvl",
        "outputId": "356dc396-0f73-43bc-bb86-37815f20f3f9"
      },
      "source": [
        "plot_clusters(X, y_hi)"
      ],
      "execution_count": null,
      "outputs": [
        {
          "output_type": "display_data",
          "data": {
            "image/png": "[encoded data removed]",
            "text/plain": [
              "<Figure size 432x288 with 1 Axes>"
            ]
          },
          "metadata": {
            "tags": [],
            "needs_background": "light"
          }
        }
      ]
    },
    {
      "cell_type": "markdown",
      "metadata": {
        "id": "NP2DhEZQvE5U"
      },
      "source": [
        "### Second evaluation "
      ]
    },
    {
      "cell_type": "markdown",
      "metadata": {
        "id": "VltnIWtBmqID"
      },
      "source": [
        "## 3.2 Dataset 2"
      ]
    },
    {
      "cell_type": "markdown",
      "metadata": {
        "id": "fcVNl0dOvUsq"
      },
      "source": [
        "### Train Hierarchical clustering "
      ]
    },
    {
      "cell_type": "code",
      "metadata": {
        "id": "tCcBxQaGvYgO"
      },
      "source": [
        ""
      ],
      "execution_count": null,
      "outputs": []
    },
    {
      "cell_type": "markdown",
      "metadata": {
        "id": "8b6JvPUfm4Q-"
      },
      "source": [
        "### First evaluation"
      ]
    },
    {
      "cell_type": "code",
      "metadata": {
        "id": "IPvIi1rC-Afg"
      },
      "source": [
        ""
      ],
      "execution_count": null,
      "outputs": []
    },
    {
      "cell_type": "markdown",
      "metadata": {
        "id": "jxhZGBnSm98d"
      },
      "source": [
        "### Second evalaution "
      ]
    },
    {
      "cell_type": "code",
      "metadata": {
        "id": "37S5tqcz-0Js"
      },
      "source": [
        ""
      ],
      "execution_count": null,
      "outputs": []
    },
    {
      "cell_type": "markdown",
      "metadata": {
        "id": "do-r947ZnGTQ"
      },
      "source": [
        "\n",
        "\n",
        "---\n",
        "\n",
        "\n",
        "# 4. DBSCAN Clustering"
      ]
    },
    {
      "cell_type": "markdown",
      "metadata": {
        "id": "QxvlRqgovlC7"
      },
      "source": [
        "## 4.1 Dataset 1"
      ]
    },
    {
      "cell_type": "markdown",
      "metadata": {
        "id": "2rJ2wmllvrmR"
      },
      "source": [
        "### Train DBSCAN clustering "
      ]
    },
    {
      "cell_type": "code",
      "metadata": {
        "id": "y3zDjJVX3U-a"
      },
      "source": [
        ""
      ],
      "execution_count": null,
      "outputs": []
    },
    {
      "cell_type": "markdown",
      "metadata": {
        "id": "KxeyDFICvw9b"
      },
      "source": [
        "### First evaluation"
      ]
    },
    {
      "cell_type": "code",
      "metadata": {
        "id": "Qtfuz5523XWr"
      },
      "source": [
        ""
      ],
      "execution_count": null,
      "outputs": []
    },
    {
      "cell_type": "markdown",
      "metadata": {
        "id": "Bjhyvv9Qv0rP"
      },
      "source": [
        "### Second evaluation "
      ]
    },
    {
      "cell_type": "code",
      "metadata": {
        "id": "ON1_RFmv3bj3"
      },
      "source": [
        ""
      ],
      "execution_count": null,
      "outputs": []
    },
    {
      "cell_type": "markdown",
      "metadata": {
        "id": "t-POjSqnv7gB"
      },
      "source": [
        "## 4.2 Dataset 2"
      ]
    },
    {
      "cell_type": "markdown",
      "metadata": {
        "id": "wKK7dFVhv-UX"
      },
      "source": [
        "### Train DBSCAN clustering "
      ]
    },
    {
      "cell_type": "code",
      "metadata": {
        "id": "9R8e0huUuu7L"
      },
      "source": [
        ""
      ],
      "execution_count": null,
      "outputs": []
    },
    {
      "cell_type": "markdown",
      "metadata": {
        "id": "OrKT0eKewCgm"
      },
      "source": [
        "### First evaluation "
      ]
    },
    {
      "cell_type": "code",
      "metadata": {
        "id": "fxy2Rsl6wBCM"
      },
      "source": [
        ""
      ],
      "execution_count": null,
      "outputs": []
    },
    {
      "cell_type": "markdown",
      "metadata": {
        "id": "1joILa4LwFbs"
      },
      "source": [
        "### Second evaluation "
      ]
    },
    {
      "cell_type": "code",
      "metadata": {
        "id": "n_QJ74S7wH7b"
      },
      "source": [
        ""
      ],
      "execution_count": null,
      "outputs": []
    }
  ]
}