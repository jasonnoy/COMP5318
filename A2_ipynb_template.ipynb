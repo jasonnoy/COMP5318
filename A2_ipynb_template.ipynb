{
 "cells": [
  {
   "cell_type": "markdown",
   "metadata": {
    "id": "H0eP3e_PjUBJ"
   },
   "source": [
    "# COMP5318 Assignment 2\n",
    "*Make sure you change the file name with your unikey*"
   ]
  },
  {
   "cell_type": "code",
   "execution_count": null,
   "metadata": {
    "colab": {
     "base_uri": "https://localhost:8080/"
    },
    "id": "dP6R172dUB9_",
    "outputId": "72b23c9d-7850-4999-c04f-6bed23b299b6"
   },
   "outputs": [],
   "source": [
    "pip install --upgrade pip"
   ]
  },
  {
   "cell_type": "code",
   "execution_count": null,
   "metadata": {
    "id": "P989d9U2b1mR"
   },
   "outputs": [],
   "source": [
    "import os\n",
    "import pickle\n",
    "import pandas as pd\n",
    "%matplotlib inline\n",
    "import matplotlib.pyplot as plt\n",
    "import matplotlib as mpl\n",
    "import seaborn as sns;\n",
    "import numpy as np\n",
    "from PIL import Image\n",
    "from numpy import asarray\n",
    "from sklearn import preprocessing\n",
    "from sklearn.cluster import KMeans\n",
    "from sklearn.metrics import silhouette_score"
   ]
  },
  {
   "cell_type": "markdown",
   "metadata": {
    "id": "uHOuqG7PjhMp"
   },
   "source": [
    "# 1. Data set up\n"
   ]
  },
  {
   "cell_type": "markdown",
   "metadata": {
    "id": "u8BNaD9dkIVa"
   },
   "source": [
    "## 1.1 Load Data\n",
    "\n",
    "Please upload both datasets (any file format is ok) to your google drive, and load the datasets through google drive file id in your code. If you want to use Jupyter, please submit all the dataset in an additional zip file.\n",
    "\n",
    "\n"
   ]
  },
  {
   "cell_type": "code",
   "execution_count": null,
   "metadata": {
    "id": "IAfmDpcTHTic"
   },
   "outputs": [],
   "source": [
    "# parse .review file\n",
    "def read_txt_data(file_name):\n",
    "    with open(file_name, encoding='gb18030', errors='ignore') as file_object:\n",
    "        lines = file_object.readlines()  # read lines\n",
    "    data_set = []\n",
    "    for line in lines:\n",
    "        data_line = line.strip(\"\\n\").split()\n",
    "        line_dict = {}\n",
    "        for data in data_line:\n",
    "            kv_pair = data.split(\":\")\n",
    "            line_dict[kv_pair[0]] = kv_pair[1]\n",
    "        data_set.append(line_dict)\n",
    "    return data_set"
   ]
  },
  {
   "cell_type": "markdown",
   "metadata": {
    "id": "DvDycHp5gBUY"
   },
   "source": [
    "### dataset 1"
   ]
  },
  {
   "cell_type": "code",
   "execution_count": null,
   "metadata": {
    "id": "gBtTuOw5J6Gt"
   },
   "outputs": [],
   "source": [
    "book_review = read_txt_data(\"./Datasets/amazon_book.review\")"
   ]
  },
  {
   "cell_type": "code",
   "execution_count": null,
   "metadata": {
    "colab": {
     "base_uri": "https://localhost:8080/"
    },
    "id": "4FknX3CFObqK",
    "outputId": "86c57920-33db-4b22-c62c-13a4d73a2530"
   },
   "outputs": [],
   "source": [
    "data_size = len(book_review)\n",
    "print(data_size)"
   ]
  },
  {
   "cell_type": "code",
   "execution_count": null,
   "metadata": {
    "id": "oI1HTgSAOmvm"
   },
   "outputs": [],
   "source": [
    "class_feq={}\n",
    "for line in book_review:\n",
    "  for key in line.keys():\n",
    "    if key in class_feq:\n",
    "      class_feq[key] += 1\n",
    "    else: \n",
    "      class_feq[key] = 1"
   ]
  },
  {
   "cell_type": "code",
   "execution_count": null,
   "metadata": {
    "id": "v_wN3dDuU9NO"
   },
   "outputs": [],
   "source": [
    "for key in class_feq.keys():\n",
    "  class_feq[key] = class_feq[key]/data_size"
   ]
  },
  {
   "cell_type": "code",
   "execution_count": null,
   "metadata": {
    "colab": {
     "base_uri": "https://localhost:8080/"
    },
    "id": "I3cdCdqLXaEI",
    "outputId": "09c08ed0-3a68-4d60-cf54-51d6b586063c"
   },
   "outputs": [],
   "source": [
    "print (len(class_feq))"
   ]
  },
  {
   "cell_type": "code",
   "execution_count": null,
   "metadata": {
    "colab": {
     "base_uri": "https://localhost:8080/"
    },
    "id": "3ZSOz6bNVoHv",
    "outputId": "01822167-08cc-46c6-fece-2209409414df"
   },
   "outputs": [],
   "source": [
    "classes = []\n",
    "for key in class_feq.keys():\n",
    "  if class_feq[key]>0.7:\n",
    "    classes.append(key)\n",
    "class_size = len(classes)\n",
    "print (class_size)"
   ]
  },
  {
   "cell_type": "code",
   "execution_count": null,
   "metadata": {
    "colab": {
     "base_uri": "https://localhost:8080/"
    },
    "id": "GX-vKNFQpqJG",
    "outputId": "345fb5e8-7a27-4d01-f8d9-e013a5ae3a88"
   },
   "outputs": [],
   "source": [
    "valid_set = []\n",
    "for line in book_review:\n",
    "  valid_set.append(float(line['#label#']))\n",
    "print (len(valid_set))"
   ]
  },
  {
   "cell_type": "code",
   "execution_count": null,
   "metadata": {
    "id": "DO-WUApuYWRR"
   },
   "outputs": [],
   "source": [
    "train_set = np.zeros((data_size, class_size), dtype= np.int32)"
   ]
  },
  {
   "cell_type": "code",
   "execution_count": null,
   "metadata": {
    "colab": {
     "base_uri": "https://localhost:8080/"
    },
    "id": "PjVkg2z0iZh3",
    "outputId": "40755630-c512-462c-a9db-d3b26ec310da",
    "scrolled": true
   },
   "outputs": [],
   "source": [
    "i = 0\n",
    "for line in book_review:\n",
    "  j = 0\n",
    "  for cl in classes:\n",
    "    if (cl in line.keys()):\n",
    "      if (float(line[cl])==0):\n",
    "        print(\"found 0\")\n",
    "        break\n",
    "      train_set[i][j] = float(line[cl])\n",
    "      j+=1\n",
    "  i+=1\n",
    "for i in range(5490,5500):\n",
    "  print (train_set[i])"
   ]
  },
  {
   "cell_type": "code",
   "execution_count": null,
   "metadata": {
    "id": "epSdYLdhNONW"
   },
   "outputs": [],
   "source": [
    "from sklearn.impute import SimpleImputer\n",
    "imp = SimpleImputer(missing_values=0, strategy='mean')\n",
    "train_set = imp.fit_transform(train_set)"
   ]
  },
  {
   "cell_type": "code",
   "execution_count": null,
   "metadata": {
    "colab": {
     "base_uri": "https://localhost:8080/"
    },
    "id": "RhwFVLJnnBFp",
    "outputId": "a9cd4a2f-b15b-4fde-a450-6e7c96e31c5c"
   },
   "outputs": [],
   "source": [
    "print (train_set[0])"
   ]
  },
  {
   "cell_type": "code",
   "execution_count": null,
   "metadata": {
    "id": "p9YdzFOvt1Ff"
   },
   "outputs": [],
   "source": [
    "\n",
    "stand_train = preprocessing.StandardScaler()\n",
    "stand_train = stand_train.fit_transform(train_set)"
   ]
  },
  {
   "cell_type": "code",
   "execution_count": null,
   "metadata": {
    "id": "p-1oKW7Jom42"
   },
   "outputs": [],
   "source": [
    "robust_train = preprocessing.RobustScaler()\n",
    "# robust标准化处理\n",
    "robust_train = robust_train.fit_transform(train_set)"
   ]
  },
  {
   "cell_type": "code",
   "execution_count": null,
   "metadata": {
    "colab": {
     "base_uri": "https://localhost:8080/"
    },
    "id": "RCYWfuXjpEO3",
    "outputId": "2715db9d-4cfd-4809-9feb-2afcc5b69ffe",
    "scrolled": true
   },
   "outputs": [],
   "source": [
    "print(robust_train[5])"
   ]
  },
  {
   "cell_type": "code",
   "execution_count": null,
   "metadata": {
    "id": "t8iqDSTYsPVi"
   },
   "outputs": [],
   "source": [
    "# PCA\n",
    "pca = decomposition.PCA(n_components=10)\n",
    "X = pca.fit_transform(stand_train)"
   ]
  },
  {
   "cell_type": "markdown",
   "metadata": {
    "id": "ItHFfjgHtlPK"
   },
   "source": [
    "### Dataset 2"
   ]
  },
  {
   "cell_type": "code",
   "execution_count": null,
   "metadata": {
    "id": "ZOoITp-XEHky"
   },
   "outputs": [],
   "source": []
  },
  {
   "cell_type": "markdown",
   "metadata": {
    "id": "F-3XiApgk3sA"
   },
   "source": [
    "\n",
    "\n",
    "---\n",
    "\n",
    "\n",
    "# 2. K-means Clustering"
   ]
  },
  {
   "cell_type": "markdown",
   "metadata": {
    "id": "hxAng4yft0nA"
   },
   "source": [
    "## 2.1 Dataset 1"
   ]
  },
  {
   "cell_type": "markdown",
   "metadata": {
    "id": "WgV8ZaHalV5D"
   },
   "source": [
    "### Train K-means clustering"
   ]
  },
  {
   "cell_type": "code",
   "execution_count": null,
   "metadata": {
    "id": "ktH81FBAkg96"
   },
   "outputs": [],
   "source": [
    "kmeans_per_k = [KMeans(n_clusters=k, random_state=42).fit(X) for k in range(1, 10)]\n",
    "inertias = [model.inertia_ for model in kmeans_per_k]"
   ]
  },
  {
   "cell_type": "code",
   "execution_count": null,
   "metadata": {},
   "outputs": [],
   "source": [
    "print (inertias)"
   ]
  },
  {
   "cell_type": "code",
   "execution_count": null,
   "metadata": {},
   "outputs": [],
   "source": [
    "plot_kmeans(kmeans_per_k[2], stand_train, n_clusters=4, rseed=0, ax=None)"
   ]
  },
  {
   "cell_type": "code",
   "execution_count": null,
   "metadata": {
    "scrolled": true
   },
   "outputs": [],
   "source": [
    "plt.figure(figsize=(8, 3))\n",
    "plt.plot(range(2, 10), silhouette_scores, \"bo-\")\n",
    "plt.xlabel(\"$k$\", fontsize=14)\n",
    "plt.ylabel(\"Silhouette score\", fontsize=14)\n",
    "plt.show()"
   ]
  },
  {
   "cell_type": "code",
   "execution_count": null,
   "metadata": {},
   "outputs": [],
   "source": []
  },
  {
   "cell_type": "code",
   "execution_count": null,
   "metadata": {},
   "outputs": [],
   "source": [
    "\n",
    "k = 2\n",
    "plot_decision_boundaries(kmeans_per_k[k-1], X)\n",
    "plt.show()"
   ]
  },
  {
   "cell_type": "markdown",
   "metadata": {},
   "source": [
    "### Evaluation functions"
   ]
  },
  {
   "cell_type": "code",
   "execution_count": null,
   "metadata": {},
   "outputs": [],
   "source": []
  },
  {
   "cell_type": "code",
   "execution_count": null,
   "metadata": {},
   "outputs": [],
   "source": [
    "###Some plot functions\n",
    "def plot_data(X):\n",
    "    plt.plot(X[:, 0], X[:, 1], 'k.', markersize=2)\n",
    "\n",
    "def plot_clusters(X, y=None):\n",
    "    plt.scatter(X[:, 0], X[:, 1], c=y, s=1)\n",
    "    plt.xlabel(\"$x_1$\", fontsize=14)\n",
    "    plt.ylabel(\"$x_2$\", fontsize=14, rotation=0)\n",
    "    \n",
    "def plot_centroids(centroids, weights=None, circle_color='w', cross_color='k'):\n",
    "    if weights is not None:\n",
    "        centroids = centroids[weights > weights.max() / 10]\n",
    "    plt.scatter(centroids[:, 0], centroids[:, 1],\n",
    "                marker='o', s=30, linewidths=8,\n",
    "                color=circle_color, zorder=10, alpha=0.9)\n",
    "    plt.scatter(centroids[:, 0], centroids[:, 1],\n",
    "                marker='x', s=50, linewidths=50,\n",
    "                color=cross_color, zorder=11, alpha=1)\n",
    "\n",
    "def plot_decision_boundaries(clusterer, X, resolution=1000, show_centroids=True,\n",
    "                             show_xlabels=True, show_ylabels=True):\n",
    "    mins = X.min(axis=0) - 0.1\n",
    "    maxs = X.max(axis=0) + 0.1\n",
    "    xx, yy = np.meshgrid(np.linspace(mins[0], maxs[0], resolution),\n",
    "                         np.linspace(mins[1], maxs[1], resolution))\n",
    "    Z = clusterer.predict(np.c_[xx.ravel(), yy.ravel()])\n",
    "    Z = Z.reshape(xx.shape)\n",
    "\n",
    "    plt.contourf(Z, extent=(mins[0], maxs[0], mins[1], maxs[1]),\n",
    "                cmap=\"Pastel2\")\n",
    "    plt.contour(Z, extent=(mins[0], maxs[0], mins[1], maxs[1]),\n",
    "                linewidths=1, colors='k')\n",
    "    plot_data(X)\n",
    "    if show_centroids:\n",
    "        plot_centroids(clusterer.cluster_centers_)\n",
    "\n",
    "    if show_xlabels:\n",
    "        plt.xlabel(\"$x_1$\", fontsize=14)\n",
    "    else:\n",
    "        plt.tick_params(labelbottom=False)\n",
    "    if show_ylabels:\n",
    "        plt.ylabel(\"$x_2$\", fontsize=14, rotation=0)\n",
    "    else:\n",
    "        plt.tick_params(labelleft=False)\n",
    "\n",
    "def plot_clusterer_comparison(clusterer1, clusterer2, X, title1=None, title2=None):\n",
    "    clusterer1.fit(X)\n",
    "    clusterer2.fit(X)\n",
    "\n",
    "    plt.figure(figsize=(10, 3.2))\n",
    "\n",
    "    plt.subplot(121)\n",
    "    plot_decision_boundaries(clusterer1, X)\n",
    "    if title1:\n",
    "        plt.title(title1, fontsize=14)\n",
    "\n",
    "    plt.subplot(122)\n",
    "    plot_decision_boundaries(clusterer2, X, show_ylabels=False)\n",
    "    if title2:\n",
    "        plt.title(title2, fontsize=14)"
   ]
  },
  {
   "cell_type": "code",
   "execution_count": null,
   "metadata": {},
   "outputs": [],
   "source": []
  },
  {
   "cell_type": "code",
   "execution_count": null,
   "metadata": {},
   "outputs": [],
   "source": [
    "###Some more functions for fitting models and plotting results\n",
    "from matplotlib.patches import Ellipse\n",
    "from scipy.spatial.distance import cdist\n",
    "\n",
    "def draw_ellipse(position, covariance, ax=None, **kwargs):\n",
    "    \"\"\"Draw an ellipse with a given position and covariance\"\"\"\n",
    "    ax = ax or plt.gca()\n",
    "    \n",
    "    # Convert covariance to principal axes\n",
    "    if covariance.shape == (2, 2):\n",
    "        U, s, Vt = np.linalg.svd(covariance)\n",
    "        angle = np.degrees(np.arctan2(U[1, 0], U[0, 0]))\n",
    "        width, height = 2 * np.sqrt(s)\n",
    "    else:\n",
    "        angle = 0\n",
    "        width, height = 2 * np.sqrt(covariance)\n",
    "    \n",
    "    # Draw the Ellipse\n",
    "    for nsig in range(1, 4):\n",
    "        ax.add_patch(Ellipse(position, nsig * width, nsig * height,\n",
    "                             angle, **kwargs))\n",
    "        \n",
    "def plot_gmm(gmm, X, label=True, ax=None):\n",
    "    ax = ax or plt.gca()\n",
    "    labels = gmm.fit(X).predict(X)\n",
    "    if label:\n",
    "        ax.scatter(X[:, 0], X[:, 1], c=labels, s=20, cmap='viridis', zorder=2)\n",
    "    else:\n",
    "        ax.scatter(X[:, 0], X[:, 1], s=20, zorder=2)\n",
    "    ax.axis('equal')\n",
    "    \n",
    "    w_factor = 0.2 / gmm.weights_.max()\n",
    "    for pos, covar, w in zip(gmm.means_, gmm.covariances_, gmm.weights_):\n",
    "        draw_ellipse(pos, covar, alpha=w * w_factor)\n",
    "\n",
    "def plot_kmeans(kmeans, X, n_clusters=4, rseed=0, ax=None):\n",
    "    labels = kmeans.fit_predict(X)\n",
    "\n",
    "    # plot the input data\n",
    "    ax = ax or plt.gca()\n",
    "    ax.axis('equal')\n",
    "    ax.scatter(X[:, 5], X[:, 0], c=labels, s=20, cmap='viridis', zorder=2)\n",
    "\n",
    "    # plot the representation of the KMeans model\n",
    "\n"
   ]
  },
  {
   "cell_type": "markdown",
   "metadata": {
    "id": "VLaxMNFYlxUR"
   },
   "source": [
    "### First evaluation"
   ]
  },
  {
   "cell_type": "code",
   "execution_count": null,
   "metadata": {
    "id": "hiOAurVPluWC"
   },
   "outputs": [],
   "source": []
  },
  {
   "cell_type": "code",
   "execution_count": null,
   "metadata": {},
   "outputs": [],
   "source": [
    "from sklearn import decomposition\n",
    "\n",
    "plot_kmeans(kmeans_per_k[2], X, n_clusters=4, rseed=0, ax=None)"
   ]
  },
  {
   "cell_type": "markdown",
   "metadata": {
    "id": "XrItLpXPlk15"
   },
   "source": [
    "### Second evaluation"
   ]
  },
  {
   "cell_type": "code",
   "execution_count": null,
   "metadata": {
    "id": "yGE6IWzxmHA1"
   },
   "outputs": [],
   "source": []
  },
  {
   "cell_type": "code",
   "execution_count": null,
   "metadata": {
    "colab": {
     "base_uri": "https://localhost:8080/"
    },
    "id": "EAgGDl8klBER",
    "outputId": "84141a99-618f-46de-84dd-7625192fad56",
    "scrolled": true
   },
   "outputs": [],
   "source": [
    "plt.figure(figsize=(8, 3.5))\n",
    "plt.plot(range(1, 10), inertias, \"bo-\")\n",
    "plt.xlabel(\"$k$\", fontsize=14)\n",
    "plt.ylabel(\"Inertia\", fontsize=14)\n",
    "plt.annotate('Second Best',\n",
    "             xy=(3, inertias[2]),\n",
    "             xytext=(0.55, 0.55),\n",
    "             textcoords='figure fraction',\n",
    "             fontsize=16,\n",
    "             arrowprops=dict(facecolor='black', shrink=0.1)\n",
    "            )\n",
    "plt.annotate('Elbow',\n",
    "             xy=(2, inertias[1]),\n",
    "             xytext=(0.55, 0.75),\n",
    "             textcoords='figure fraction',\n",
    "             fontsize=16,\n",
    "             arrowprops=dict(facecolor='black', shrink=0.1)\n",
    "            )\n",
    "plt.axis([1, 8.5, 20000, 56000])\n",
    "plt.show()"
   ]
  },
  {
   "cell_type": "code",
   "execution_count": null,
   "metadata": {},
   "outputs": [],
   "source": [
    "silhouette_scores = [silhouette_score(X, model.labels_)\n",
    "                     for model in kmeans_per_k[1:]]"
   ]
  },
  {
   "cell_type": "code",
   "execution_count": null,
   "metadata": {
    "scrolled": true
   },
   "outputs": [],
   "source": [
    "plt.figure(figsize=(8, 3))\n",
    "plt.plot(range(2, 10), silhouette_scores, \"bo-\")\n",
    "plt.xlabel(\"$k$\", fontsize=14)\n",
    "plt.ylabel(\"Silhouette score\", fontsize=14)\n",
    "plt.show()"
   ]
  },
  {
   "cell_type": "markdown",
   "metadata": {
    "id": "o-dhDS0cuYGI"
   },
   "source": [
    "## 2.2 Dataset 2"
   ]
  },
  {
   "cell_type": "markdown",
   "metadata": {
    "id": "Shyegx-9ufUI"
   },
   "source": [
    "### Train K-means clustering"
   ]
  },
  {
   "cell_type": "code",
   "execution_count": null,
   "metadata": {
    "id": "vBjbFw8Y4XML"
   },
   "outputs": [],
   "source": []
  },
  {
   "cell_type": "markdown",
   "metadata": {
    "id": "y-iD8b9bulEZ"
   },
   "source": [
    "### First evaluation"
   ]
  },
  {
   "cell_type": "code",
   "execution_count": null,
   "metadata": {
    "id": "YFm649x0hcyH"
   },
   "outputs": [],
   "source": []
  },
  {
   "cell_type": "markdown",
   "metadata": {
    "id": "InkaP1GTupgP"
   },
   "source": [
    "### Second evaluation "
   ]
  },
  {
   "cell_type": "code",
   "execution_count": null,
   "metadata": {
    "id": "XVMYx4dXF2w8"
   },
   "outputs": [],
   "source": []
  },
  {
   "cell_type": "markdown",
   "metadata": {
    "id": "BVB6M5-tmVZ6"
   },
   "source": [
    "\n",
    "\n",
    "---\n",
    "\n",
    "\n",
    "# 3. Hierachical Clustering"
   ]
  },
  {
   "cell_type": "markdown",
   "metadata": {
    "id": "4e1rXjiou6Xg"
   },
   "source": [
    "## 3.1 Dataset 1"
   ]
  },
  {
   "cell_type": "markdown",
   "metadata": {
    "id": "lyI1Q-dJmj2D"
   },
   "source": [
    "### Train Hierarchical clustering "
   ]
  },
  {
   "cell_type": "code",
   "execution_count": null,
   "metadata": {
    "id": "yzSTBU2AmZub"
   },
   "outputs": [],
   "source": [
    "from sklearn.cluster import AgglomerativeClustering"
   ]
  },
  {
   "cell_type": "code",
   "execution_count": null,
   "metadata": {},
   "outputs": [],
   "source": [
    "clustering = AgglomerativeClustering().fit(X)"
   ]
  },
  {
   "cell_type": "markdown",
   "metadata": {
    "id": "u06Odf2RvATE"
   },
   "source": [
    "### First evaluation "
   ]
  },
  {
   "cell_type": "code",
   "execution_count": null,
   "metadata": {
    "id": "1SXvtt22vD_j"
   },
   "outputs": [],
   "source": [
    "from scipy.cluster.hierarchy import dendrogram, linkage,fcluster\n",
    "Z = linkage(X, 'ward')\n",
    "f = fcluster(Z,4,'distance')\n",
    "fig = plt.figure(figsize=(20, 10))\n",
    "dn = dendrogram(Z)\n",
    "plt.show()"
   ]
  },
  {
   "cell_type": "code",
   "execution_count": null,
   "metadata": {},
   "outputs": [],
   "source": [
    "fig, ax = plt.subplots(figsize=(15, 20)) # set size\n",
    "ax = dendrogram(Z, orientation=\"right\", labels=titles);\n",
    "\n",
    "plt.tick_params(\\\n",
    "    axis= 'x',          # changes apply to the x-axis\n",
    "    which='both',      # both major and minor ticks are affected\n",
    "    bottom='off',      # ticks along the bottom edge are off\n",
    "    top='off',         # ticks along the top edge are off\n",
    "    labelbottom='off',\n",
    "    labelsize=15\n",
    "    )\n",
    "plt.tick_params(\\\n",
    "    axis= 'y',          # changes apply to the y-axis\n",
    "    labelsize=15\n",
    "    )\n",
    "\n",
    "plt.tight_layout() #show plot with tight layout\n",
    "\n",
    "#save figure as ward_clusters\n",
    "plt.savefig('ward_clusters.png', dpi=200) "
   ]
  },
  {
   "cell_type": "markdown",
   "metadata": {
    "id": "NP2DhEZQvE5U"
   },
   "source": [
    "### Second evaluation "
   ]
  },
  {
   "cell_type": "code",
   "execution_count": null,
   "metadata": {
    "id": "o-VNWQFsvIyL"
   },
   "outputs": [],
   "source": []
  },
  {
   "cell_type": "markdown",
   "metadata": {
    "id": "VltnIWtBmqID"
   },
   "source": [
    "## 3.2 Dataset 2"
   ]
  },
  {
   "cell_type": "markdown",
   "metadata": {
    "id": "fcVNl0dOvUsq"
   },
   "source": [
    "### Train Hierarchical clustering "
   ]
  },
  {
   "cell_type": "code",
   "execution_count": null,
   "metadata": {
    "id": "tCcBxQaGvYgO"
   },
   "outputs": [],
   "source": []
  },
  {
   "cell_type": "markdown",
   "metadata": {
    "id": "8b6JvPUfm4Q-"
   },
   "source": [
    "### First evaluation"
   ]
  },
  {
   "cell_type": "code",
   "execution_count": null,
   "metadata": {
    "id": "IPvIi1rC-Afg"
   },
   "outputs": [],
   "source": []
  },
  {
   "cell_type": "markdown",
   "metadata": {
    "id": "jxhZGBnSm98d"
   },
   "source": [
    "### Second evalaution "
   ]
  },
  {
   "cell_type": "code",
   "execution_count": null,
   "metadata": {
    "id": "37S5tqcz-0Js"
   },
   "outputs": [],
   "source": []
  },
  {
   "cell_type": "markdown",
   "metadata": {
    "id": "do-r947ZnGTQ"
   },
   "source": [
    "\n",
    "\n",
    "---\n",
    "\n",
    "\n",
    "# 4. DBSCAN Clustering"
   ]
  },
  {
   "cell_type": "markdown",
   "metadata": {
    "id": "QxvlRqgovlC7"
   },
   "source": [
    "## 4.1 Dataset 1"
   ]
  },
  {
   "cell_type": "markdown",
   "metadata": {
    "id": "2rJ2wmllvrmR"
   },
   "source": [
    "### Train DBSCAN clustering "
   ]
  },
  {
   "cell_type": "code",
   "execution_count": null,
   "metadata": {
    "id": "y3zDjJVX3U-a"
   },
   "outputs": [],
   "source": []
  },
  {
   "cell_type": "markdown",
   "metadata": {
    "id": "KxeyDFICvw9b"
   },
   "source": [
    "### First evaluation"
   ]
  },
  {
   "cell_type": "code",
   "execution_count": null,
   "metadata": {
    "id": "Qtfuz5523XWr"
   },
   "outputs": [],
   "source": []
  },
  {
   "cell_type": "markdown",
   "metadata": {
    "id": "Bjhyvv9Qv0rP"
   },
   "source": [
    "### Second evaluation "
   ]
  },
  {
   "cell_type": "code",
   "execution_count": null,
   "metadata": {
    "id": "ON1_RFmv3bj3"
   },
   "outputs": [],
   "source": []
  },
  {
   "cell_type": "markdown",
   "metadata": {
    "id": "t-POjSqnv7gB"
   },
   "source": [
    "## 4.2 Dataset 2"
   ]
  },
  {
   "cell_type": "markdown",
   "metadata": {
    "id": "wKK7dFVhv-UX"
   },
   "source": [
    "### Train DBSCAN clustering "
   ]
  },
  {
   "cell_type": "code",
   "execution_count": null,
   "metadata": {
    "id": "9R8e0huUuu7L"
   },
   "outputs": [],
   "source": []
  },
  {
   "cell_type": "markdown",
   "metadata": {
    "id": "OrKT0eKewCgm"
   },
   "source": [
    "### First evaluation "
   ]
  },
  {
   "cell_type": "code",
   "execution_count": null,
   "metadata": {
    "id": "fxy2Rsl6wBCM"
   },
   "outputs": [],
   "source": []
  },
  {
   "cell_type": "markdown",
   "metadata": {
    "id": "1joILa4LwFbs"
   },
   "source": [
    "### Second evaluation "
   ]
  },
  {
   "cell_type": "code",
   "execution_count": null,
   "metadata": {
    "id": "n_QJ74S7wH7b"
   },
   "outputs": [],
   "source": []
  }
 ],
 "metadata": {
  "colab": {
   "collapsed_sections": [],
   "name": "A2_ipynb_template.ipynb",
   "provenance": [],
   "toc_visible": true
  },
  "kernelspec": {
   "display_name": "Python 3",
   "language": "python",
   "name": "python3"
  },
  "language_info": {
   "codemirror_mode": {
    "name": "ipython",
    "version": 3
   },
   "file_extension": ".py",
   "mimetype": "text/x-python",
   "name": "python",
   "nbconvert_exporter": "python",
   "pygments_lexer": "ipython3",
   "version": "3.7.1"
  }
 },
 "nbformat": 4,
 "nbformat_minor": 1
}
